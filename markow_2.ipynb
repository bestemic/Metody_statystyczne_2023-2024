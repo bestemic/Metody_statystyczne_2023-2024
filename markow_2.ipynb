{
 "cells": [
  {
   "cell_type": "code",
   "execution_count": 1,
   "metadata": {},
   "outputs": [],
   "source": [
    "import numpy as np"
   ]
  },
  {
   "cell_type": "code",
   "execution_count": 2,
   "metadata": {},
   "outputs": [],
   "source": [
    "P = [[0.64, 0.32, 0.04],\n",
    "     [0.4, 0.5, 0.1],\n",
    "     [0.25, 0.5, 0.25]]\n",
    "n = 10\n",
    "N = 10**4"
   ]
  },
  {
   "cell_type": "code",
   "execution_count": 3,
   "metadata": {},
   "outputs": [
    {
     "name": "stdout",
     "output_type": "stream",
     "text": [
      "Initial state: 0, estimated stationary state: [0.5133 0.4106 0.0761]\n",
      "Initial state: 1, estimated stationary state: [0.5074 0.4087 0.0839]\n",
      "Initial state: 2, estimated stationary state: [0.5042 0.4175 0.0783]\n",
      "Expected: [0.5102, 0.4082, 0.0816]\n"
     ]
    }
   ],
   "source": [
    "for initial_state in range(3):\n",
    "    states_counts = np.zeros((3,))\n",
    "    for _ in range(N):\n",
    "        current_state = initial_state\n",
    "        for _ in range(n):\n",
    "            random = np.random.uniform()\n",
    "            if random <= P[current_state][0]:\n",
    "                current_state = 0\n",
    "            elif random <= P[current_state][0] + P[current_state][1]:\n",
    "                current_state = 1\n",
    "            else:\n",
    "                current_state = 2\n",
    "        states_counts[current_state] += 1\n",
    "        \n",
    "    estimation = states_counts / N\n",
    "    print(f\"Initial state: {initial_state}, estimated stationary state: {estimation}\")\n",
    "    \n",
    "print(\"Expected: [0.5102, 0.4082, 0.0816]\")"
   ]
  }
 ],
 "metadata": {
  "kernelspec": {
   "display_name": "Python 3 (ipykernel)",
   "language": "python",
   "name": "python3"
  },
  "language_info": {
   "codemirror_mode": {
    "name": "ipython",
    "version": 3
   },
   "file_extension": ".py",
   "mimetype": "text/x-python",
   "name": "python",
   "nbconvert_exporter": "python",
   "pygments_lexer": "ipython3",
   "version": "3.11.5"
  }
 },
 "nbformat": 4,
 "nbformat_minor": 2
}
